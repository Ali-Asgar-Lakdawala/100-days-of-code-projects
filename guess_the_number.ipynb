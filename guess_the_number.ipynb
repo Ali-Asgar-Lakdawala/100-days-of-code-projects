{
  "nbformat": 4,
  "nbformat_minor": 0,
  "metadata": {
    "colab": {
      "name": "guess the number.ipynb",
      "provenance": [],
      "authorship_tag": "ABX9TyM27yCo+ceGeYMKFFegJNiL",
      "include_colab_link": true
    },
    "kernelspec": {
      "name": "python3",
      "display_name": "Python 3"
    },
    "language_info": {
      "name": "python"
    }
  },
  "cells": [
    {
      "cell_type": "markdown",
      "metadata": {
        "id": "view-in-github",
        "colab_type": "text"
      },
      "source": [
        "<a href=\"https://colab.research.google.com/github/Ali-Asgar-Lakdawala/100-days-of-code-projects/blob/main/guess_the_number.ipynb\" target=\"_parent\"><img src=\"https://colab.research.google.com/assets/colab-badge.svg\" alt=\"Open In Colab\"/></a>"
      ]
    },
    {
      "cell_type": "code",
      "execution_count": 7,
      "metadata": {
        "colab": {
          "base_uri": "https://localhost:8080/"
        },
        "id": "Vbc5ab0Ilyjf",
        "outputId": "70f29a46-e6fb-438c-978d-dcfc26cd89fc"
      },
      "outputs": [
        {
          "output_type": "stream",
          "name": "stdout",
          "text": [
            "i am thinking the number between  and 100\n"
          ]
        }
      ],
      "source": [
        "print('i am thinking the number between  and 100')\n",
        "from random import *"
      ]
    },
    {
      "cell_type": "code",
      "source": [
        "random_input=randint(1,100)\n",
        "dificulty=input('choose a dificluty level E or H: ')\n",
        "if dificulty == \"E\":\n",
        "  trials=10\n",
        "else:\n",
        "  trials=5\n",
        "for i in reversed(range(0,trials+1)):\n",
        "  if i==0:\n",
        "    print('you loose')\n",
        "    print(f'correct ans is {random_input}')\n",
        "  print(f'you have {i} attempts left')\n",
        "  user_input=int(input('guess the number'))\n",
        "  if random_input<user_input:\n",
        "    print('too high')\n",
        "  elif random_input == user_input:\n",
        "    print(\"you win\")\n",
        "    print(f'correct ans is {random_input}')\n",
        "    break\n",
        "  else:\n",
        "    print(\"too low\")\n",
        "\n",
        "\n"
      ],
      "metadata": {
        "colab": {
          "base_uri": "https://localhost:8080/"
        },
        "id": "PLZdQERzo0OC",
        "outputId": "6f41e5db-07c3-45f4-ff98-1b658799b5bf"
      },
      "execution_count": 16,
      "outputs": [
        {
          "output_type": "stream",
          "name": "stdout",
          "text": [
            "choose a dificluty level E or H: E\n",
            "you have 10 attempts left\n",
            "guess the number50\n",
            "too low\n",
            "you have 9 attempts left\n",
            "guess the number75\n",
            "too low\n",
            "you have 8 attempts left\n",
            "guess the number90\n",
            "too low\n",
            "you have 7 attempts left\n",
            "guess the number95\n",
            "you win\n",
            "correct ans is 95\n"
          ]
        }
      ]
    },
    {
      "cell_type": "code",
      "source": [
        ""
      ],
      "metadata": {
        "id": "VEZ3nk6ap70Y"
      },
      "execution_count": null,
      "outputs": []
    }
  ]
}