{
  "nbformat": 4,
  "nbformat_minor": 0,
  "metadata": {
    "colab": {
      "name": "hidden auction.ipynb",
      "provenance": [],
      "authorship_tag": "ABX9TyP/ovqMTLe4/RJ35Pkoomeh",
      "include_colab_link": true
    },
    "kernelspec": {
      "name": "python3",
      "display_name": "Python 3"
    },
    "language_info": {
      "name": "python"
    }
  },
  "cells": [
    {
      "cell_type": "markdown",
      "metadata": {
        "id": "view-in-github",
        "colab_type": "text"
      },
      "source": [
        "<a href=\"https://colab.research.google.com/github/Ali-Asgar-Lakdawala/100-days-of-code-projects/blob/main/hidden_auction.ipynb\" target=\"_parent\"><img src=\"https://colab.research.google.com/assets/colab-badge.svg\" alt=\"Open In Colab\"/></a>"
      ]
    },
    {
      "cell_type": "code",
      "source": [
        "palyers={}\n",
        "while True:\n",
        "  player_name=input('what is your name?: ')\n",
        "  palyers[player_name]=int(input('whats your bid?: '))\n",
        "  temp=input('are there any other players ')\n",
        "  if temp=='no':\n",
        "    max_score=max(palyers.values())\n",
        "    highest_bidder=list(palyers.keys())[list(palyers.values()).index(max_score)]\n",
        "    print(f'the highest bidder is {highest_bidder} with a bid of {max_score}')\n",
        "    break\n",
        "\n",
        "\n"
      ],
      "metadata": {
        "colab": {
          "base_uri": "https://localhost:8080/"
        },
        "id": "1sjO_DMLdytn",
        "outputId": "991a8531-a06f-4f11-aefc-1fb4802ab892"
      },
      "execution_count": null,
      "outputs": [
        {
          "output_type": "stream",
          "name": "stdout",
          "text": [
            "what is your name?: ali\n",
            "whats your bid?: 100\n",
            "are there any other players yes\n",
            "what is your name?: ali\n",
            "whats your bid?: 200\n",
            "are there any other players mo\n",
            "what is your name?: ali\n",
            "whats your bid?: 50\n",
            "are there any other players no\n",
            "the highest bidder is ali with a bid of 50\n"
          ]
        }
      ]
    },
    {
      "cell_type": "code",
      "source": [
        "palyers={}\n",
        "while True:\n",
        "  player_name=input('what is your name?: ')\n",
        "  player_score=int(input('whats your bid?: '))\n",
        "  palyers[player_score]=player_name\n",
        "  temp=input('are there any other players ')\n",
        "  if temp=='no':\n",
        "    max_score=max(palyers.keys())\n",
        "    highest_bidder=palyers[max_score]\n",
        "    print(f'the highest bidder is {highest_bidder} with a bid of {max_score}')\n",
        "    break"
      ],
      "metadata": {
        "colab": {
          "base_uri": "https://localhost:8080/"
        },
        "id": "GKlgfajlmUTw",
        "outputId": "8db1c1fa-6e56-4610-9fd3-205d8e2ea1b2"
      },
      "execution_count": null,
      "outputs": [
        {
          "output_type": "stream",
          "name": "stdout",
          "text": [
            "what is your name?: ali\n",
            "whats your bid?: 23\n",
            "are there any other players yes\n",
            "what is your name?: abbas\n",
            "whats your bid?: 14\n",
            "are there any other players no\n",
            "the highest bidder is ali with a bid of 23\n"
          ]
        }
      ]
    },
    {
      "cell_type": "code",
      "source": [
        "test={\"ali\":9.8,\"abbas\":8}\n",
        "for key in test:\n",
        "  value=test[key]\n",
        "  if value>9:\n",
        "    test[key]='o'\n",
        "  elif value>=8:\n",
        "    test[key]='a'"
      ],
      "metadata": {
        "id": "a5gztEOCn5qp"
      },
      "execution_count": null,
      "outputs": []
    },
    {
      "cell_type": "code",
      "source": [
        "test"
      ],
      "metadata": {
        "colab": {
          "base_uri": "https://localhost:8080/"
        },
        "id": "O6JrgApboVlU",
        "outputId": "88737c99-a74c-4683-d8a2-1f0237b1147e"
      },
      "execution_count": null,
      "outputs": [
        {
          "output_type": "execute_result",
          "data": {
            "text/plain": [
              "{'abbas': 'a', 'ali': 'o'}"
            ]
          },
          "metadata": {},
          "execution_count": 28
        }
      ]
    },
    {
      "cell_type": "code",
      "source": [
        ""
      ],
      "metadata": {
        "id": "zab5z6Q1oaPZ"
      },
      "execution_count": null,
      "outputs": []
    }
  ]
}