{
  "nbformat": 4,
  "nbformat_minor": 0,
  "metadata": {
    "colab": {
      "name": "Blackjack.ipynb",
      "provenance": [],
      "authorship_tag": "ABX9TyNe+V1/K3hVodIDLGOMS6+N",
      "include_colab_link": true
    },
    "kernelspec": {
      "name": "python3",
      "display_name": "Python 3"
    },
    "language_info": {
      "name": "python"
    }
  },
  "cells": [
    {
      "cell_type": "markdown",
      "metadata": {
        "id": "view-in-github",
        "colab_type": "text"
      },
      "source": [
        "<a href=\"https://colab.research.google.com/github/Ali-Asgar-Lakdawala/100-days-of-code-projects/blob/main/Blackjack.ipynb\" target=\"_parent\"><img src=\"https://colab.research.google.com/assets/colab-badge.svg\" alt=\"Open In Colab\"/></a>"
      ]
    },
    {
      "cell_type": "code",
      "source": [
        "cards=[1,2,3,4,5,6,7,8,9,10,10,10,10]"
      ],
      "metadata": {
        "id": "83nNiDIQhZ39"
      },
      "execution_count": 13,
      "outputs": []
    },
    {
      "cell_type": "code",
      "source": [
        "def decision(usercards,computer_cards,final=True):\n",
        "  if sum(usercards)>21:\n",
        "    print(usercards)\n",
        "    print(computer_cards)\n",
        "    print('you loose')\n",
        "    return\n",
        "  elif sum(computer_cards)>21:\n",
        "    print(usercards)\n",
        "    print(computer_cards)\n",
        "    print('you win')\n",
        "  if final==True:\n",
        "    print(usercards)\n",
        "    print(computer_cards)\n",
        "    if sum(usercards)>sum(computer_cards):\n",
        "      print('you win')\n",
        "    else:\n",
        "      print('you loose')"
      ],
      "metadata": {
        "id": "Xl_U-STjfN12"
      },
      "execution_count": 20,
      "outputs": []
    },
    {
      "cell_type": "code",
      "execution_count": 23,
      "metadata": {
        "colab": {
          "base_uri": "https://localhost:8080/",
          "height": 340
        },
        "id": "QqUq95pQOqic",
        "outputId": "a0d44dd3-5c4f-48e9-9ae1-dae4f46c55f0"
      },
      "outputs": [
        {
          "output_type": "stream",
          "name": "stdout",
          "text": [
            "your cards: [5, 6]\n",
            "computer's first card: 5\n",
            "type y to get an card and n to pass: y\n",
            "[5, 6, 6]\n",
            "[5, 8]\n",
            "you win\n"
          ]
        },
        {
          "output_type": "error",
          "ename": "AttributeError",
          "evalue": "ignored",
          "traceback": [
            "\u001b[0;31m---------------------------------------------------------------------------\u001b[0m",
            "\u001b[0;31mAttributeError\u001b[0m                            Traceback (most recent call last)",
            "\u001b[0;32m<ipython-input-23-79f2b3217c3b>\u001b[0m in \u001b[0;36m<module>\u001b[0;34m()\u001b[0m\n\u001b[1;32m     16\u001b[0m     \u001b[0mcomputer_cards\u001b[0m\u001b[0;34m.\u001b[0m\u001b[0mappend\u001b[0m\u001b[0;34m(\u001b[0m\u001b[0mrandom\u001b[0m\u001b[0;34m.\u001b[0m\u001b[0mchoice\u001b[0m\u001b[0;34m(\u001b[0m\u001b[0mcards\u001b[0m\u001b[0;34m)\u001b[0m\u001b[0;34m)\u001b[0m\u001b[0;34m\u001b[0m\u001b[0;34m\u001b[0m\u001b[0m\n\u001b[1;32m     17\u001b[0m   \u001b[0;32melse\u001b[0m\u001b[0;34m:\u001b[0m\u001b[0;34m\u001b[0m\u001b[0;34m\u001b[0m\u001b[0m\n\u001b[0;32m---> 18\u001b[0;31m     \u001b[0mprint\u001b[0m\u001b[0;34m(\u001b[0m\u001b[0musercards\u001b[0m\u001b[0;34m.\u001b[0m\u001b[0msum\u001b[0m\u001b[0;34m(\u001b[0m\u001b[0;34m)\u001b[0m\u001b[0;34m,\u001b[0m\u001b[0mcomputer_cards\u001b[0m\u001b[0;34m.\u001b[0m\u001b[0msum\u001b[0m\u001b[0;34m(\u001b[0m\u001b[0;34m)\u001b[0m\u001b[0;34m)\u001b[0m\u001b[0;34m\u001b[0m\u001b[0;34m\u001b[0m\u001b[0m\n\u001b[0m\u001b[1;32m     19\u001b[0m \u001b[0;34m\u001b[0m\u001b[0m\n\u001b[1;32m     20\u001b[0m \u001b[0;32melse\u001b[0m\u001b[0;34m:\u001b[0m\u001b[0;34m\u001b[0m\u001b[0;34m\u001b[0m\u001b[0m\n",
            "\u001b[0;31mAttributeError\u001b[0m: 'list' object has no attribute 'sum'"
          ]
        }
      ],
      "source": [
        "from random import *\n",
        "import random\n",
        "usercards=[random.choice(cards),random.choice(cards)]\n",
        "print(f'your cards: {usercards}')\n",
        "computer_cards=[random.choice(cards),random.choice(cards)]\n",
        "print(f\"computer's first card: {computer_cards[0]}\")\n",
        "play=input('type y to get an card and n to pass: ')\n",
        "\n",
        "if play==\"y\":\n",
        "  usercards.append(random.choice(cards))\n",
        "\n",
        "  decision(usercards,computer_cards)\n",
        "\n",
        "  computer_choice=randint(0,1)\n",
        "  if computer_choice==1:\n",
        "    computer_cards.append(random.choice(cards))\n",
        "  else:\n",
        "    print(usercards.sum(),computer_cards.sum())\n",
        "\n",
        "else:\n",
        "  decision(usercards,computer_cards)\n",
        "\n"
      ]
    },
    {
      "cell_type": "code",
      "source": [
        ""
      ],
      "metadata": {
        "id": "-qgkbzNOPB7W"
      },
      "execution_count": null,
      "outputs": []
    }
  ]
}